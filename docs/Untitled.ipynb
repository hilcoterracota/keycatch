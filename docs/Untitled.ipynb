{
 "cells": [
  {
   "cell_type": "code",
   "execution_count": 1,
   "metadata": {},
   "outputs": [],
   "source": [
    "import requests as rqst\n",
    "import json\n",
    "import secrets\n",
    "import uuid\n",
    "\n",
    "URL = \"http://localhost:5000/api\"\n",
    "\n",
    "    "
   ]
  },
  {
   "cell_type": "code",
   "execution_count": 2,
   "metadata": {},
   "outputs": [
    {
     "name": "stdout",
     "output_type": "stream",
     "text": [
      "<Response [200]>\n",
      "<Response [200]>\n",
      "<Response [200]>\n"
     ]
    }
   ],
   "source": [
    "Systems = [\n",
    "    {\n",
    "        \"path\": \"svc\",\n",
    "        \"icon\": \"home\",\n",
    "        \"class\": \"slide_root\",\n",
    "        \"name\": \"svc\",\n",
    "        \"keyName\": \"sistema_vigilancia_corporativa\",\n",
    "        \"description\": \"Sistema de Vigilancia Corporativa\"\n",
    "    },\n",
    "    {\n",
    "        \"path\": \"dgar\",\n",
    "        \"icon\": \"home\",\n",
    "        \"class\": \"slide_root\",\n",
    "        \"name\": \"dgar\",\n",
    "        \"keyName\": \"direccion_general_acciones_riesgo\",\n",
    "        \"description\": \"Direccion General de Acciones de riesgo\"\n",
    "    },\n",
    "    {\n",
    "        \"path\": \"sie\",\n",
    "        \"icon\": \"home\",\n",
    "        \"class\": \"slide_root\",\n",
    "        \"name\": \"sie\",\n",
    "        \"keyName\": \"sistema_informacion_ejecutiva\",\n",
    "        \"description\": \"Sistema de Informacion Ejecutiva\"\n",
    "    }\n",
    "]\n",
    "for data in Systems:\n",
    "    r = rqst.post(url = str(URL+\"/System/V1\"), json = data)\n",
    "    print(r)\n"
   ]
  },
  {
   "cell_type": "code",
   "execution_count": 4,
   "metadata": {},
   "outputs": [
    {
     "name": "stdout",
     "output_type": "stream",
     "text": [
      "<Response [404]>\n",
      "<Response [404]>\n"
     ]
    }
   ],
   "source": [
    "\n",
    "lands=[\n",
    "    {\n",
    "        \"path\": \"informe_global_supervicion\",\n",
    "        \"icon\": \"home\",\n",
    "        \"class\": \"slide_module\",\n",
    "        \"name\": \"Informe Global\",\n",
    "        \"keyName\": \"sie_informe_global\",\n",
    "        \"description\": \"Informe Global de Supervicion\"\n",
    "\n",
    "    },\n",
    "    {\n",
    "        \"path\": \"reporte_atencion_regulatoria\",\n",
    "        \"icon\": \"home\",\n",
    "        \"class\": \"slide_module\",\n",
    "        \"name\": \"Informe GLobal\",\n",
    "        \"keyName\": \"sie_reporte_atencion_regulatoria\",\n",
    "        \"description\": \"Reporte  de atencion regulatoria\"\n",
    "\n",
    "    }\n",
    "]\n",
    "for data in lands:\n",
    "    r = rqst.post(url = str(URL+\"/Land/V1\"), json = data)\n",
    "    print(r)"
   ]
  },
  {
   "cell_type": "code",
   "execution_count": 26,
   "metadata": {},
   "outputs": [
    {
     "name": "stdout",
     "output_type": "stream",
     "text": [
      "<Response [200]>\n",
      "<Response [200]>\n"
     ]
    }
   ],
   "source": [
    "\n",
    "    \n",
    "r = rqst.get(url = str(URL+\"/Module/V1\"))\n",
    "modules = r.json()[\"result\"]\n",
    "\n",
    "for module in modules:\n",
    "    r = rqst.post(url = str(URL+\"/SystemModule/V1\"), json = {\n",
    "        \"CastleId\":\"e3cc0ca3-b1f8-4ad0-9170-eeff85aa9df6\",\n",
    "        \"LandId\":module[\"id\"]\n",
    "    })\n",
    "    print(r)"
   ]
  },
  {
   "cell_type": "code",
   "execution_count": 4,
   "metadata": {},
   "outputs": [
    {
     "name": "stdout",
     "output_type": "stream",
     "text": [
      "<Response [200]>\n",
      "<Response [200]>\n",
      "<Response [200]>\n"
     ]
    }
   ],
   "source": [
    "Environments = [\n",
    "    {\n",
    "        \"name\": \"Desarrollo\",\n",
    "        \"keyName\": \"env_des\",\n",
    "        \"description\": \"Ambiente dedicado a Desarrollo\"\n",
    "    },\n",
    "    {\n",
    "        \"name\": \"Pruebas\",\n",
    "        \"keyName\": \"env_test\",\n",
    "        \"description\": \"Ambiente dedicado a Pruebas\"\n",
    "    },\n",
    "    {\n",
    "        \"name\": \"Produccion\",\n",
    "        \"keyName\": \"env_prod\",\n",
    "        \"description\": \"Ambiente dedicado a Produccion\"\n",
    "    }\n",
    "]\n",
    "    \n",
    "for data in Environments:\n",
    "    r = rqst.post(url = str(URL+\"/Enviroment/V1\"), json = data)\n",
    "    print(r)"
   ]
  },
  {
   "cell_type": "code",
   "execution_count": 5,
   "metadata": {},
   "outputs": [
    {
     "name": "stdout",
     "output_type": "stream",
     "text": [
      "<Response [200]>\n",
      "<Response [200]>\n",
      "<Response [200]>\n",
      "<Response [200]>\n"
     ]
    }
   ],
   "source": [
    "Roles = [\n",
    "    {\n",
    "        \"name\": \"default\"\n",
    "    },\n",
    "    {\n",
    "        \"name\": \"administrador\"\n",
    "    },\n",
    "    {\n",
    "        \"name\": \"root\"\n",
    "    },\n",
    "    {\n",
    "        \"name\": \"desarrollador\"\n",
    "    }\n",
    "]\n",
    "    \n",
    "for data in Roles:\n",
    "    r = rqst.post(url = str(URL+\"/role/V1\"), json = data)\n",
    "    print(r)"
   ]
  },
  {
   "cell_type": "code",
   "execution_count": 10,
   "metadata": {},
   "outputs": [
    {
     "name": "stdout",
     "output_type": "stream",
     "text": [
      "<Response [200]>\n",
      "{'username': 'lduran', 'email': 'lorena.duran@hilcoterracota.com.mx'}\n",
      "<Response [200]>\n",
      "{'username': 'sgarcia', 'email': 'sergio.garcia@hilcoterracota.com.mx'}\n",
      "<Response [200]>\n",
      "{'username': 'sagarcia', 'email': 'sarash.garcia@hilcoterracota.com.mx'}\n",
      "<Response [200]>\n",
      "{'username': 'garreola', 'email': 'gabriela.arreola@hilcoterracota.com.mx'}\n",
      "<Response [200]>\n",
      "{'username': 'anazario', 'email': 'aristeo.nazario@hilcoterracota.com.mx'}\n",
      "<Response [200]>\n",
      "{'username': 'mmartinez', 'email': 'marilin.martinez@hilcoterracota.com.mx'}\n",
      "<Response [200]>\n",
      "{'username': 'xarce', 'email': 'ximena.arce@hilcoterracota.com.mx'}\n",
      "<Response [200]>\n",
      "{'username': 'mgarza', 'email': 'mario.garza@hilcoterracota.com.mx'}\n",
      "<Response [200]>\n",
      "{'username': 'maguilar', 'email': 'martin.aguilar@hilcoterracota.com.mx'}\n",
      "<Response [200]>\n",
      "{'username': 'mvaldez', 'email': 'miguel.valdez@hilcoterracota.com.mx'}\n",
      "<Response [200]>\n",
      "{'username': 'aestrada', 'email': 'alejandra.estrada@hilcoterracota.com.mx'}\n",
      "<Response [200]>\n",
      "{'username': 'aschwedhelm', 'email': 'alejandro.schwedhelm@hilcoterracota.com.mx'}\n",
      "<Response [200]>\n",
      "{'username': 'mpineda', 'email': 'mario.pineda@hilcoterracota.com.mx'}\n",
      "<Response [200]>\n",
      "{'username': 'calvarez', 'email': 'cesar.alvarez@hilcoterracota.com.mx'}\n",
      "<Response [200]>\n",
      "{'username': 'raguirre', 'email': 'roberto.aguirre@hilcoterracota.com.mx'}\n",
      "<Response [200]>\n",
      "{'username': 'mcavazos', 'email': 'mildred.cavazos@hilcoterracota.com.mx'}\n",
      "<Response [200]>\n",
      "{'username': 'abalcazar', 'email': 'angelica.balcazar@hilcoterracota.com.mx'}\n",
      "<Response [200]>\n",
      "{'username': 'cgarcia', 'email': 'carlos.garcia@hilcoterracota.com.mx'}\n",
      "<Response [200]>\n",
      "{'username': 'arodriguez', 'email': 'alberto.rodriguez@hilcoterracota.com.mx'}\n",
      "<Response [200]>\n",
      "{'username': 'mmontes', 'email': 'marcos.montes@hilcoterracota.com.mx'}\n",
      "<Response [200]>\n",
      "{'username': 'nmartinez', 'email': 'nestor.martinez@hilcoterracota.com.mx'}\n",
      "<Response [200]>\n",
      "{'username': 'sgonzalez', 'email': 'sergio.gonzalez@hilcoterracota.com.mx'}\n",
      "<Response [200]>\n",
      "{'username': 'asosa', 'email': 'adaelsi.sosa@hilcoterracota.com.mx'}\n",
      "<Response [200]>\n",
      "{'username': 'amunguia', 'email': 'alejandra.munguia@hilcoterracota.com.mx'}\n",
      "<Response [200]>\n",
      "{'username': 'aperez', 'email': 'alejandro.perez@hilcoterracota.com.mx'}\n",
      "<Response [200]>\n",
      "{'username': 'dsoria', 'email': 'daniel.soria@hilcoterracota.com.mx'}\n",
      "<Response [200]>\n",
      "{'username': 'cgonzalez', 'email': 'cristina.gonzalez@hilcoterracota.com.mx'}\n",
      "<Response [200]>\n",
      "{'username': 'dpadillag', 'email': 'diana.padilla@hilcoterracota.com.mx'}\n",
      "<Response [200]>\n",
      "{'username': 'emaceda', 'email': 'edgar.maceda@hilcoterracota.com.mx'}\n",
      "<Response [200]>\n",
      "{'username': 'fderio', 'email': 'fabiola.derio@hilcoterracota.com.mx'}\n",
      "<Response [200]>\n",
      "{'username': 'ggonzalez', 'email': 'gabriela.gonzalez@hilcoterracota.com.mx'}\n",
      "<Response [200]>\n",
      "{'username': 'groman', 'email': 'guarasi.roman@hilcoterracota.com.mx'}\n",
      "<Response [200]>\n",
      "{'username': 'gmalo', 'email': 'guillermo.malo@hilcoterracota.com.mx'}\n",
      "<Response [200]>\n",
      "{'username': 'krosado', 'email': 'karla.rosado@hilcoterracota.com.mx'}\n",
      "<Response [200]>\n",
      "{'username': 'mmoreno', 'email': 'martha.moreno@hilcoterracota.com.mx'}\n",
      "<Response [200]>\n",
      "{'username': 'mornelas', 'email': 'moises.ornelas@hilcoterracota.com.mx'}\n",
      "<Response [200]>\n",
      "{'username': 'mcampero', 'email': 'monica.campero@hilcoterracota.com.mx'}\n",
      "<Response [200]>\n",
      "{'username': 'pmolano', 'email': 'paul.molano@hilcoterracota.com.mx'}\n"
     ]
    }
   ],
   "source": [
    "r = rqst.post(url = str(URL+\"/account/V1/GetUsersWithActiveDirectory\"), json = {\n",
    "    \"username\": \"nmartinez\",\n",
    "    \"password\": \"TerraNM14.#\"\n",
    "})\n",
    "for user in r.json():\n",
    "    r = rqst.post(url = \"http://localhost:5000/api/account/V1/CreateUser\", json = {\n",
    "        \"userName\":user[\"username\"],\n",
    "        \"email\":user[\"email\"],\n",
    "        \"password\":uuid.uuid4().hex+\"\".join([secrets.choice(\"!@#$%^&*()\") for _ in range(0, 12)])+\"\".join([secrets.choice(\"QWERTYUIOPÑLKJHGFDSAZXCVBNM\") for _ in range(0, 12)]),\n",
    "        \"userFromActiveDirectory\":\"true\"\n",
    "    })\n",
    "    print(r)\n",
    "    \n",
    "    print(user)\n"
   ]
  },
  {
   "cell_type": "code",
   "execution_count": null,
   "metadata": {},
   "outputs": [],
   "source": []
  }
 ],
 "metadata": {
  "kernelspec": {
   "display_name": "Python 3",
   "language": "python",
   "name": "python3"
  },
  "language_info": {
   "codemirror_mode": {
    "name": "ipython",
    "version": 3
   },
   "file_extension": ".py",
   "mimetype": "text/x-python",
   "name": "python",
   "nbconvert_exporter": "python",
   "pygments_lexer": "ipython3",
   "version": "3.7.3"
  }
 },
 "nbformat": 4,
 "nbformat_minor": 4
}
