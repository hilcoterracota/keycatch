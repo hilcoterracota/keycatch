{
 "cells": [
  {
   "cell_type": "code",
   "execution_count": 10,
   "metadata": {},
   "outputs": [],
   "source": [
    "import requests as rqst\n",
    "import json\n",
    "import secrets\n",
    "import uuid\n",
    "\n",
    "URL = \"http://192.168.2.1:81/api\"\n",
    "    "
   ]
  },
  {
   "cell_type": "code",
   "execution_count": 11,
   "metadata": {},
   "outputs": [],
   "source": [
    "\n",
    "r = rqst.post(url = str(URL +\"/account/V1/Login\"), json = {\n",
    "    \"username\": \"nmartinez\",\n",
    "    \"password\": \"HTerra_NM23$\"\n",
    "})\n",
    "\n",
    "token = r.json()['token']\n",
    "\n",
    "hed = {'Authorization': f'Bearer {token}'}\n",
    "\n"
   ]
  },
  {
   "cell_type": "code",
   "execution_count": 12,
   "metadata": {},
   "outputs": [
    {
     "name": "stdout",
     "output_type": "stream",
     "text": [
      "<Response [500]>\n",
      "<Response [500]>\n",
      "<Response [500]>\n"
     ]
    }
   ],
   "source": [
    "Environments = [\n",
    "    {\n",
    "        \"name\": \"Desarrollo\",\n",
    "        \"keyName\": \"env_des\",\n",
    "        \"description\": \"Ambiente dedicado a Desarrollo\"\n",
    "    },\n",
    "    {\n",
    "        \"name\": \"Pruebas\",\n",
    "        \"keyName\": \"env_test\",\n",
    "        \"description\": \"Ambiente dedicado a Pruebas\"\n",
    "    },\n",
    "    {\n",
    "        \"name\": \"Produccion\",\n",
    "        \"keyName\": \"env_prod\",\n",
    "        \"description\": \"Ambiente dedicado a Produccion\"\n",
    "    }\n",
    "]\n",
    "    \n",
    "for data in Environments:\n",
    "    r = rqst.post(url = str(URL+\"/Enviroment/V1\"), json = data,headers=hed)\n",
    "    print(r)"
   ]
  },
  {
   "cell_type": "code",
   "execution_count": 18,
   "metadata": {},
   "outputs": [
    {
     "name": "stdout",
     "output_type": "stream",
     "text": [
      "<Response [500]>\n",
      "<Response [500]>\n",
      "<Response [500]>\n",
      "<Response [500]>\n"
     ]
    }
   ],
   "source": [
    "Roles = [\n",
    "    {\n",
    "        \"name\": \"default\"\n",
    "    },\n",
    "    {\n",
    "        \"name\": \"administrador\"\n",
    "    },\n",
    "    {\n",
    "        \"name\": \"root\"\n",
    "    },\n",
    "    {\n",
    "        \"name\": \"desarrollador\"\n",
    "    }\n",
    "]\n",
    "    \n",
    "for data in Roles:\n",
    "    r = rqst.post(url = str(URL+\"/role/V1\"), json = data,headers=hed)\n",
    "    print(r)"
   ]
  },
  {
   "cell_type": "code",
   "execution_count": 19,
   "metadata": {},
   "outputs": [
    {
     "name": "stdout",
     "output_type": "stream",
     "text": [
      "http://192.168.2.1:81/api/Account/V1/CreateUser\n",
      "{'email': 'lorena.duran@hilcoterracota.com.mx', 'userName': 'lduran'}\n",
      "<Response [400]>\n",
      "{'email': 'sergio.garcia@hilcoterracota.com.mx', 'userName': 'sgarcia'}\n",
      "<Response [400]>\n",
      "{'email': 'sarash.garcia@hilcoterracota.com.mx', 'userName': 'sagarcia'}\n",
      "<Response [400]>\n",
      "{'email': 'gabriela.arreola@hilcoterracota.com.mx', 'userName': 'garreola'}\n",
      "<Response [400]>\n",
      "{'email': 'aristeo.nazario@hilcoterracota.com.mx', 'userName': 'anazario'}\n",
      "<Response [400]>\n",
      "{'email': 'marilin.martinez@hilcoterracota.com.mx', 'userName': 'mmartinez'}\n",
      "<Response [400]>\n",
      "{'email': 'ximena.arce@hilcoterracota.com.mx', 'userName': 'xarce'}\n",
      "<Response [400]>\n",
      "{'email': 'mario.garza@hilcoterracota.com.mx', 'userName': 'mgarza'}\n",
      "<Response [400]>\n",
      "{'email': 'martin.aguilar@hilcoterracota.com.mx', 'userName': 'maguilar'}\n",
      "<Response [400]>\n",
      "{'email': 'miguel.valdez@hilcoterracota.com.mx', 'userName': 'mvaldez'}\n",
      "<Response [400]>\n",
      "{'email': 'alejandra.estrada@hilcoterracota.com.mx', 'userName': 'aestrada'}\n",
      "<Response [400]>\n",
      "{'email': 'alejandro.schwedhelm@hilcoterracota.com.mx', 'userName': 'aschwedhelm'}\n",
      "<Response [400]>\n",
      "{'email': 'mario.pineda@hilcoterracota.com.mx', 'userName': 'mpineda'}\n",
      "<Response [400]>\n",
      "{'email': 'cesar.alvarez@hilcoterracota.com.mx', 'userName': 'calvarez'}\n",
      "<Response [400]>\n",
      "{'email': 'roberto.aguirre@hilcoterracota.com.mx', 'userName': 'raguirre'}\n",
      "<Response [400]>\n",
      "{'email': 'mildred.cavazos@hilcoterracota.com.mx', 'userName': 'mcavazos'}\n",
      "<Response [400]>\n",
      "{'email': 'angelica.balcazar@hilcoterracota.com.mx', 'userName': 'abalcazar'}\n",
      "<Response [400]>\n",
      "{'email': 'carlos.garcia@hilcoterracota.com.mx', 'userName': 'cgarcia'}\n",
      "<Response [400]>\n",
      "{'email': 'alberto.rodriguez@hilcoterracota.com.mx', 'userName': 'arodriguez'}\n",
      "<Response [400]>\n",
      "{'email': 'marcos.montes@hilcoterracota.com.mx', 'userName': 'mmontes'}\n",
      "<Response [400]>\n",
      "{'email': 'nestor.martinez@hilcoterracota.com.mx', 'userName': 'nmartinez'}\n",
      "<Response [400]>\n",
      "{'email': 'emmanuel.gonzalez@hilcoterracota.com.mx', 'userName': 'egonzalez'}\n",
      "<Response [400]>\n",
      "{'email': 'administrator@hilcoterracota.com.mx', 'userName': 'administrator'}\n",
      "<Response [400]>\n",
      "{'email': 'sergio.gonzalez@hilcoterracota.com.mx', 'userName': 'sgonzalez'}\n",
      "<Response [400]>\n",
      "{'email': 'adaelsi.sosa@hilcoterracota.com.mx', 'userName': 'asosa'}\n",
      "<Response [400]>\n",
      "{'email': 'alejandra.munguia@hilcoterracota.com.mx', 'userName': 'amunguia'}\n",
      "<Response [400]>\n",
      "{'email': 'alejandro.perez@hilcoterracota.com.mx', 'userName': 'aperez'}\n",
      "<Response [400]>\n",
      "{'email': 'daniel.soria@hilcoterracota.com.mx', 'userName': 'dsoria'}\n",
      "<Response [400]>\n",
      "{'email': 'cristina.gonzalez@hilcoterracota.com.mx', 'userName': 'cgonzalez'}\n",
      "<Response [400]>\n",
      "{'email': 'diana.padilla@hilcoterracota.com.mx', 'userName': 'dpadillag'}\n",
      "<Response [400]>\n",
      "{'email': 'edgar.maceda@hilcoterracota.com.mx', 'userName': 'emaceda'}\n",
      "<Response [400]>\n",
      "{'email': 'fabiola.derio@hilcoterracota.com.mx', 'userName': 'fderio'}\n",
      "<Response [400]>\n",
      "{'email': 'gabriela.gonzalez@hilcoterracota.com.mx', 'userName': 'ggonzalez'}\n",
      "<Response [400]>\n",
      "{'email': 'guarasi.roman@hilcoterracota.com.mx', 'userName': 'groman'}\n",
      "<Response [400]>\n",
      "{'email': 'guillermo.malo@hilcoterracota.com.mx', 'userName': 'gmalo'}\n",
      "<Response [400]>\n",
      "{'email': 'karla.rosado@hilcoterracota.com.mx', 'userName': 'krosado'}\n",
      "<Response [400]>\n",
      "{'email': 'martha.moreno@hilcoterracota.com.mx', 'userName': 'mmoreno'}\n",
      "<Response [400]>\n",
      "{'email': 'moises.ornelas@hilcoterracota.com.mx', 'userName': 'mornelas'}\n",
      "<Response [400]>\n",
      "{'email': 'monica.campero@hilcoterracota.com.mx', 'userName': 'mcampero'}\n",
      "<Response [400]>\n",
      "{'email': 'paul.molano@hilcoterracota.com.mx', 'userName': 'pmolano'}\n",
      "<Response [400]>\n"
     ]
    }
   ],
   "source": [
    "r = rqst.post(url = str(URL +\"/account/V1/GetUsersWithActiveDirectory\"), json = {\n",
    "    \"username\": \"nmartinez\",\n",
    "    \"password\": \"HTerra_NM23$\"\n",
    "},headers=hed)\n",
    "\n",
    "print(URL + \"/Account/V1/CreateUser\")\n",
    "\n",
    "for user in r.json():\n",
    "    r = rqst.post(url = URL + \"/Account/V1/CreateUser\", json = {\n",
    "        \"userName\":user[\"userName\"],\n",
    "        \"email\":user[\"email\"],\n",
    "        \"password\":uuid.uuid4().hex+\"\".join([secrets.choice(\"!@#$%^&*()\") for _ in range(0, 12)])+\"\".join([secrets.choice(\"QWERTYUIOPÑLKJHGFDSAZXCVBNM\") for _ in range(0, 12)]),\n",
    "        \"userFromActiveDirectory\":\"true\"\n",
    "    },headers = hed)\n",
    "    print(user)\n",
    "    print(r)\n"
   ]
  },
  {
   "cell_type": "code",
   "execution_count": null,
   "metadata": {},
   "outputs": [],
   "source": []
  }
 ],
 "metadata": {
  "kernelspec": {
   "display_name": "Python 3",
   "language": "python",
   "name": "python3"
  }
 },
 "nbformat": 4,
 "nbformat_minor": 4
}
